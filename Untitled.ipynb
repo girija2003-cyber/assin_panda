{
 "cells": [
  {
   "cell_type": "code",
   "execution_count": 1,
   "id": "83e4359b-aede-4b00-a19c-47ecda59ed9b",
   "metadata": {},
   "outputs": [],
   "source": [
    "# Q1. Create a Pandas Series that contains the following data: 4, 8, 15, 16, 23, and 42. Then, print the series."
   ]
  },
  {
   "cell_type": "code",
   "execution_count": 3,
   "id": "27d3e5be-aa54-4895-ad58-6b6bd8bdca99",
   "metadata": {},
   "outputs": [],
   "source": [
    "import pandas as pd"
   ]
  },
  {
   "cell_type": "code",
   "execution_count": 5,
   "id": "a5941147-b97a-4cd6-9727-8b428cefb34b",
   "metadata": {},
   "outputs": [
    {
     "name": "stdout",
     "output_type": "stream",
     "text": [
      "<class 'list'>\n"
     ]
    }
   ],
   "source": [
    "list=[4,8,15,16,23,42]\n",
    "print(type(list))"
   ]
  },
  {
   "cell_type": "code",
   "execution_count": 9,
   "id": "67982577-bf24-4c16-8815-0ffacb54ecfd",
   "metadata": {},
   "outputs": [],
   "source": [
    "df=pd.Series(list)"
   ]
  },
  {
   "cell_type": "code",
   "execution_count": 11,
   "id": "1cb78a0e-a3cd-4cb6-8d58-a004a279a479",
   "metadata": {},
   "outputs": [
    {
     "data": {
      "text/plain": [
       "0     4\n",
       "1     8\n",
       "2    15\n",
       "3    16\n",
       "4    23\n",
       "5    42\n",
       "dtype: int64"
      ]
     },
     "execution_count": 11,
     "metadata": {},
     "output_type": "execute_result"
    }
   ],
   "source": [
    "df"
   ]
  },
  {
   "cell_type": "code",
   "execution_count": 17,
   "id": "19a25683-579d-4d37-ba84-8b97cdf3ef81",
   "metadata": {},
   "outputs": [
    {
     "data": {
      "text/plain": [
       "[[0     4\n",
       "  1     8\n",
       "  2    15\n",
       "  3    16\n",
       "  4    23\n",
       "  5    42\n",
       "  dtype: int64]]"
      ]
     },
     "execution_count": 17,
     "metadata": {},
     "output_type": "execute_result"
    }
   ],
   "source": [
    "[[df]]"
   ]
  },
  {
   "cell_type": "code",
   "execution_count": 15,
   "id": "a6822539-ae6a-48de-9a57-7154dcdac3dc",
   "metadata": {},
   "outputs": [
    {
     "data": {
      "text/plain": [
       "[[0     4\n",
       "  1     8\n",
       "  2    15\n",
       "  3    16\n",
       "  4    23\n",
       "  5    42\n",
       "  dtype: int64]]"
      ]
     },
     "execution_count": 15,
     "metadata": {},
     "output_type": "execute_result"
    }
   ],
   "source": []
  },
  {
   "cell_type": "code",
   "execution_count": 19,
   "id": "86955fe5-ef69-45bd-993a-c8e47a17d401",
   "metadata": {},
   "outputs": [],
   "source": [
    "# Q2. Create a variable of list type containing 10 elements in it, and apply pandas.Series function on the\n",
    "# variable print it."
   ]
  },
  {
   "cell_type": "code",
   "execution_count": 21,
   "id": "287922a0-22de-42a4-b4c8-fab5c4d530cd",
   "metadata": {},
   "outputs": [],
   "source": [
    "list1=[1,2,3,4,5,6,7,8,9,23]\n",
    "df3=pd.Series(list1)"
   ]
  },
  {
   "cell_type": "code",
   "execution_count": 23,
   "id": "e1743c10-c38c-4b9a-b73f-436d093c9a36",
   "metadata": {},
   "outputs": [
    {
     "data": {
      "text/plain": [
       "pandas.core.series.Series"
      ]
     },
     "execution_count": 23,
     "metadata": {},
     "output_type": "execute_result"
    }
   ],
   "source": [
    "type(df3)"
   ]
  },
  {
   "cell_type": "code",
   "execution_count": 25,
   "id": "3d9369b0-e344-40d8-a86f-1bc81f640cb3",
   "metadata": {},
   "outputs": [],
   "source": [
    "a={\"Name\":[\"alice\",\"bob\",\"claire\"],\"age\":[25,30,27],\"gender\":[\"female\",\"male\",\"female\"]}"
   ]
  },
  {
   "cell_type": "code",
   "execution_count": 31,
   "id": "d6af0080-1968-4346-8ce4-08e7a3dfb1b8",
   "metadata": {},
   "outputs": [],
   "source": [
    "df4=pd.DataFrame(a)"
   ]
  },
  {
   "cell_type": "code",
   "execution_count": 33,
   "id": "f38b8934-5a71-4cd8-b03d-351089d03542",
   "metadata": {},
   "outputs": [
    {
     "data": {
      "text/html": [
       "<div>\n",
       "<style scoped>\n",
       "    .dataframe tbody tr th:only-of-type {\n",
       "        vertical-align: middle;\n",
       "    }\n",
       "\n",
       "    .dataframe tbody tr th {\n",
       "        vertical-align: top;\n",
       "    }\n",
       "\n",
       "    .dataframe thead th {\n",
       "        text-align: right;\n",
       "    }\n",
       "</style>\n",
       "<table border=\"1\" class=\"dataframe\">\n",
       "  <thead>\n",
       "    <tr style=\"text-align: right;\">\n",
       "      <th></th>\n",
       "      <th>Name</th>\n",
       "      <th>age</th>\n",
       "      <th>gender</th>\n",
       "    </tr>\n",
       "  </thead>\n",
       "  <tbody>\n",
       "    <tr>\n",
       "      <th>0</th>\n",
       "      <td>alice</td>\n",
       "      <td>25</td>\n",
       "      <td>female</td>\n",
       "    </tr>\n",
       "    <tr>\n",
       "      <th>1</th>\n",
       "      <td>bob</td>\n",
       "      <td>30</td>\n",
       "      <td>male</td>\n",
       "    </tr>\n",
       "    <tr>\n",
       "      <th>2</th>\n",
       "      <td>claire</td>\n",
       "      <td>27</td>\n",
       "      <td>female</td>\n",
       "    </tr>\n",
       "  </tbody>\n",
       "</table>\n",
       "</div>"
      ],
      "text/plain": [
       "     Name  age  gender\n",
       "0   alice   25  female\n",
       "1     bob   30    male\n",
       "2  claire   27  female"
      ]
     },
     "execution_count": 33,
     "metadata": {},
     "output_type": "execute_result"
    }
   ],
   "source": [
    "df4"
   ]
  },
  {
   "cell_type": "code",
   "execution_count": 41,
   "id": "f85ef94d-b496-4520-90f2-761c407e0f30",
   "metadata": {},
   "outputs": [
    {
     "data": {
      "text/plain": [
       "array(['female', 'male'], dtype=object)"
      ]
     },
     "execution_count": 41,
     "metadata": {},
     "output_type": "execute_result"
    }
   ],
   "source": [
    "df4['gender'].unique()"
   ]
  },
  {
   "cell_type": "code",
   "execution_count": 43,
   "id": "6cf065bc-c9a7-49c1-a9ee-3ba3538c0035",
   "metadata": {},
   "outputs": [
    {
     "data": {
      "text/plain": [
       "3"
      ]
     },
     "execution_count": 43,
     "metadata": {},
     "output_type": "execute_result"
    }
   ],
   "source": [
    "df4['gender'].count()"
   ]
  },
  {
   "cell_type": "code",
   "execution_count": null,
   "id": "0201406d-534f-4d41-9b37-4f3809412c5f",
   "metadata": {},
   "outputs": [],
   "source": []
  }
 ],
 "metadata": {
  "kernelspec": {
   "display_name": "Python 3 (ipykernel)",
   "language": "python",
   "name": "python3"
  },
  "language_info": {
   "codemirror_mode": {
    "name": "ipython",
    "version": 3
   },
   "file_extension": ".py",
   "mimetype": "text/x-python",
   "name": "python",
   "nbconvert_exporter": "python",
   "pygments_lexer": "ipython3",
   "version": "3.11.7"
  }
 },
 "nbformat": 4,
 "nbformat_minor": 5
}
